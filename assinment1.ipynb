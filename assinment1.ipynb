{
 "cells": [
  {
   "cell_type": "code",
   "execution_count": 1,
   "id": "bf89f652",
   "metadata": {},
   "outputs": [
    {
     "data": {
      "text/plain": [
       "2401"
      ]
     },
     "execution_count": 1,
     "metadata": {},
     "output_type": "execute_result"
    }
   ],
   "source": [
    "7**4  # What is 7 to the power of 4?"
   ]
  },
  {
   "cell_type": "code",
   "execution_count": 5,
   "id": "b3d926a1",
   "metadata": {},
   "outputs": [],
   "source": [
    "s=\"Hi there Yogesh!\"  #Split this string:\n",
    "\n"
   ]
  },
  {
   "cell_type": "code",
   "execution_count": 7,
   "id": "6a32e6e6",
   "metadata": {},
   "outputs": [
    {
     "data": {
      "text/plain": [
       "['Hi', 'there', 'Yogesh!']"
      ]
     },
     "execution_count": 7,
     "metadata": {},
     "output_type": "execute_result"
    }
   ],
   "source": [
    "s.split()"
   ]
  },
  {
   "cell_type": "code",
   "execution_count": 10,
   "id": "a4083f90",
   "metadata": {},
   "outputs": [],
   "source": [
    "# Use .format() to print the following string:\n",
    "planet = \"Earth\"\n",
    "diameter = 12742"
   ]
  },
  {
   "cell_type": "code",
   "execution_count": 9,
   "id": "00d1a242",
   "metadata": {},
   "outputs": [
    {
     "data": {
      "text/plain": [
       "'The diameter of Earth is 12742 kilometers'"
      ]
     },
     "execution_count": 9,
     "metadata": {},
     "output_type": "execute_result"
    }
   ],
   "source": [
    "\"The diameter of {} is {} kilometers\".format(planet,diameter)"
   ]
  },
  {
   "cell_type": "code",
   "execution_count": 11,
   "id": "7a4244f5",
   "metadata": {},
   "outputs": [],
   "source": [
    "#Given this nested list, use indexing to grab the word \"hello\"\n",
    "lst = [1,2,[3,4],[5,[100,200,['hello']],23,11],1,7]"
   ]
  },
  {
   "cell_type": "code",
   "execution_count": 21,
   "id": "3de19725",
   "metadata": {},
   "outputs": [
    {
     "data": {
      "text/plain": [
       "['hello']"
      ]
     },
     "execution_count": 21,
     "metadata": {},
     "output_type": "execute_result"
    }
   ],
   "source": [
    "lst[3][1][2]"
   ]
  },
  {
   "cell_type": "code",
   "execution_count": 20,
   "id": "db0dfd7e",
   "metadata": {},
   "outputs": [],
   "source": [
    "#Given this nested dictionary grab the word \"hello\". Be prepared, this will be annoying/tricky \n",
    "d = {'k1':[1,2,3,{'tricky':['oh','man','inception',{'target':[1,2,3,'hello']}]}]}"
   ]
  },
  {
   "cell_type": "code",
   "execution_count": 32,
   "id": "c55504ca",
   "metadata": {},
   "outputs": [
    {
     "data": {
      "text/plain": [
       "'hello'"
      ]
     },
     "execution_count": 32,
     "metadata": {},
     "output_type": "execute_result"
    }
   ],
   "source": [
    "d['k1'][3]['tricky'][3]['target'][3]"
   ]
  },
  {
   "cell_type": "code",
   "execution_count": null,
   "id": "49a411c7",
   "metadata": {},
   "outputs": [],
   "source": [
    "''' What is the main difference between a tuple and a list?\n",
    "    \n",
    "    Tuple                         List \n",
    "tuple are immutable.         list are mutable   \n",
    "tuple are in paranthisis     list is in squre bracket  \n",
    "bracket.\n",
    "'''"
   ]
  },
  {
   "cell_type": "code",
   "execution_count": 43,
   "id": "1a96e9a8",
   "metadata": {},
   "outputs": [],
   "source": [
    "#Create a function that grabs the email website domain from a string in the form:\n",
    "def fun1(email):\n",
    "    return email.split('@')[1]\n",
    "    \n",
    "    \n",
    "\n"
   ]
  },
  {
   "cell_type": "code",
   "execution_count": 44,
   "id": "4a632d01",
   "metadata": {},
   "outputs": [
    {
     "data": {
      "text/plain": [
       "'gmail.com'"
      ]
     },
     "execution_count": 44,
     "metadata": {},
     "output_type": "execute_result"
    }
   ],
   "source": [
    "fun1(\"abc@gmail.com\")"
   ]
  },
  {
   "cell_type": "code",
   "execution_count": 51,
   "id": "f7eb2729",
   "metadata": {},
   "outputs": [],
   "source": [
    "# Create a basic function that returns True if the word 'dog' is contained in the input string. \n",
    "# Don't worry about edge cases like a punctuation being attached to the word dog, but do account for capitalization.\n",
    "def findDog(str):\n",
    "    return 'dog' in str.lower()"
   ]
  },
  {
   "cell_type": "code",
   "execution_count": 52,
   "id": "a15b4271",
   "metadata": {},
   "outputs": [
    {
     "data": {
      "text/plain": [
       "True"
      ]
     },
     "execution_count": 52,
     "metadata": {},
     "output_type": "execute_result"
    }
   ],
   "source": [
    "findDog('Is there a dog here?')"
   ]
  },
  {
   "cell_type": "code",
   "execution_count": 71,
   "id": "1dbe57df",
   "metadata": {},
   "outputs": [],
   "source": [
    "# Create a function that counts the number of times the word \"dog\" occurs in a string. Again ignore edge cases.\n",
    "def countDog(string):\n",
    "    c=0\n",
    "    for i in string.lower().split():\n",
    "        if i == 'dog':\n",
    "            c = c + 1\n",
    "    print(c)\n",
    "        \n",
    "        "
   ]
  },
  {
   "cell_type": "code",
   "execution_count": 74,
   "id": "08c75681",
   "metadata": {},
   "outputs": [
    {
     "name": "stdout",
     "output_type": "stream",
     "text": [
      "2\n"
     ]
    }
   ],
   "source": [
    "countDog('This dog runs faster than the other dog dude!')"
   ]
  },
  {
   "cell_type": "code",
   "execution_count": 75,
   "id": "cf69448c",
   "metadata": {},
   "outputs": [],
   "source": [
    "# Use lambda expressions and \n",
    "# the filter() function to filter out words from a list that don't start with the letter 's'. For example:\n",
    "seq = ['soup','dog','salad','cat','great']"
   ]
  },
  {
   "cell_type": "code",
   "execution_count": 78,
   "id": "7766c051",
   "metadata": {},
   "outputs": [],
   "source": [
    "t1=lambda v: v[0]!='s'\n",
    "        "
   ]
  },
  {
   "cell_type": "code",
   "execution_count": 81,
   "id": "f044b0b4",
   "metadata": {},
   "outputs": [
    {
     "data": {
      "text/plain": [
       "['dog', 'cat', 'great']"
      ]
     },
     "execution_count": 81,
     "metadata": {},
     "output_type": "execute_result"
    }
   ],
   "source": [
    "list(filter(t1,seq))"
   ]
  },
  {
   "cell_type": "markdown",
   "id": "98c01b2b",
   "metadata": {},
   "source": [
    "#**You are driving a little too fast, and a police officer stops you. \n",
    "Write a function to return one of 3 possible results: \"No ticket\", \"Small ticket\", or \"Big Ticket\". \n",
    "If your speed is 60 or less, the result is \"No Ticket\". If speed is between 61 and 80 inclusive, \n",
    "the result is \"Small Ticket\". If speed is 81 or more, the result is \"Big Ticket\".\n",
    "Unless it is your birthday (encoded as a boolean value in the parameters of the function) -- \n",
    "on your birthday, your speed can be 5 higher in all cases. **\n"
   ]
  },
  {
   "cell_type": "code",
   "execution_count": 87,
   "id": "399bcdd0",
   "metadata": {},
   "outputs": [],
   "source": [
    "\n",
    "def caught_speeding(speed, is_birthday):\n",
    "    new_speed=0\n",
    "    if is_birthday:\n",
    "        new_speed=speed-5\n",
    "    else:\n",
    "        new_speed=speed\n",
    "    \n",
    "    if new_speed >=81:\n",
    "        print(\"Big Ticket !!!\")\n",
    "    elif new_speed >=61:\n",
    "        print(\"Small Ticket\")\n",
    "    else:\n",
    "        print('No Ticket')"
   ]
  },
  {
   "cell_type": "code",
   "execution_count": 86,
   "id": "9d132111",
   "metadata": {},
   "outputs": [
    {
     "name": "stdout",
     "output_type": "stream",
     "text": [
      "No Ticket\n"
     ]
    }
   ],
   "source": [
    "caught_speeding(60, True)"
   ]
  },
  {
   "cell_type": "markdown",
   "id": "ae7bf31d",
   "metadata": {},
   "source": [
    "Question\n",
    "Given a string print number num by extracting all the\n",
    "digits from the string as in string\n",
    "Print negative number if the first character in \n",
    "string is '-'\n",
    "eg.\n",
    "-123abcd should return -123,abcd456-->456,fdhfh78dsd89--->7889,-56dssd78-->-5678"
   ]
  },
  {
   "cell_type": "code",
   "execution_count": 2,
   "id": "2e19df03",
   "metadata": {},
   "outputs": [
    {
     "name": "stdout",
     "output_type": "stream",
     "text": [
      "enter the input-123abcd456\n",
      "-123456"
     ]
    }
   ],
   "source": [
    "a=input(\"enter the input\")\n",
    "no=\"\"\n",
    "lis1=[0,1,2,3,4,5,6,7,8,9]\n",
    "if a[0]=='-':\n",
    "    no=no+a[0]\n",
    "    \n",
    "for i in a:\n",
    "    if i in str(lis1):\n",
    "        no=no+i\n",
    "            \n",
    "print(no,end=\"\")\n",
    "        \n",
    "    \n",
    "        "
   ]
  },
  {
   "cell_type": "markdown",
   "id": "f61cd49b",
   "metadata": {},
   "source": [
    "Q2\n",
    "WAP to check whether a number is palindrome or not on following conditions.\n",
    "1. take input number\n",
    "2. add number and its reverse\n",
    "3. check that number is palindrome or not,if not then sum and its reverse"
   ]
  },
  {
   "cell_type": "code",
   "execution_count": 100,
   "id": "2135d84f",
   "metadata": {},
   "outputs": [
    {
     "name": "stdout",
     "output_type": "stream",
     "text": [
      "enter the number :88\n",
      "number is :  847\n",
      "reverse is :  748\n",
      "number is :  1595\n",
      "reverse is :  5951\n",
      "number is :  7546\n",
      "reverse is :  6457\n",
      "number is :  14003\n",
      "reverse is :  30041\n",
      "number is :  44044\n",
      "reverse is :  44044\n",
      "palindrome is :  44044\n"
     ]
    }
   ],
   "source": [
    "n1=input('enter the number :')\n",
    "n2=int(n1[::-1])\n",
    "n3=str(int(n1)+n2)\n",
    "while n3 != n3[::-1]:\n",
    "    n3=str(int(n3)+int(n3[::-1]))\n",
    "    print(\"number is : \",n3)\n",
    "    print(\"reverse is : \",n3[::-1])\n",
    "print(\"palindrome is : \",n3)"
   ]
  },
  {
   "cell_type": "markdown",
   "id": "0d92df51",
   "metadata": {},
   "source": [
    "Write a python function to find and display the five \n",
    "digit number in which the first digit is two more than \n",
    "the second,the second digit is two more than the third,\n",
    "the fourth digit is two less than the third, and the \n",
    "last digit is two more than\n",
    "the fourth.The sum of the third,fourth and fifth digits\n",
    "equals the first.The sum of all the digits is 19"
   ]
  },
  {
   "cell_type": "code",
   "execution_count": 107,
   "id": "dd5604d3",
   "metadata": {},
   "outputs": [],
   "source": [
    "def fun4():\n",
    "    for a in range(0,10):\n",
    "        b=a-2\n",
    "        c=b-2\n",
    "        d=c-2\n",
    "        if c+d+c == a and a+b+c+d+c == 19:\n",
    "            print(str(a)+str(b)+str(c)+str(d)+str(c))"
   ]
  },
  {
   "cell_type": "code",
   "execution_count": 106,
   "id": "f4ce223f",
   "metadata": {},
   "outputs": [
    {
     "name": "stdout",
     "output_type": "stream",
     "text": [
      "75313\n"
     ]
    }
   ],
   "source": [
    "fun4()"
   ]
  },
  {
   "cell_type": "code",
   "execution_count": 108,
   "id": "533d66b6",
   "metadata": {},
   "outputs": [
    {
     "data": {
      "text/plain": [
       "'C:\\\\Users\\\\om\\\\Desktop\\\\1Basic Python-20230317T103746Z-001\\\\1Basic Python'"
      ]
     },
     "execution_count": 108,
     "metadata": {},
     "output_type": "execute_result"
    }
   ],
   "source": [
    "pwd"
   ]
  },
  {
   "cell_type": "code",
   "execution_count": null,
   "id": "fe1a4864",
   "metadata": {},
   "outputs": [],
   "source": []
  }
 ],
 "metadata": {
  "kernelspec": {
   "display_name": "Python 3 (ipykernel)",
   "language": "python",
   "name": "python3"
  },
  "language_info": {
   "codemirror_mode": {
    "name": "ipython",
    "version": 3
   },
   "file_extension": ".py",
   "mimetype": "text/x-python",
   "name": "python",
   "nbconvert_exporter": "python",
   "pygments_lexer": "ipython3",
   "version": "3.10.9"
  }
 },
 "nbformat": 4,
 "nbformat_minor": 5
}
